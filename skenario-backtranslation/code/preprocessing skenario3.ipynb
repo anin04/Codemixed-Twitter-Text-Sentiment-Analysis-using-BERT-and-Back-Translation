{
  "nbformat": 4,
  "nbformat_minor": 0,
  "metadata": {
    "colab": {
      "provenance": []
    },
    "kernelspec": {
      "name": "python3",
      "display_name": "Python 3"
    },
    "language_info": {
      "name": "python"
    }
  },
  "cells": [
    {
      "cell_type": "code",
      "execution_count": null,
      "metadata": {
        "id": "r1m2wtXJOAQ2"
      },
      "outputs": [],
      "source": [
        "import re\n",
        "import pandas as pd"
      ]
    },
    {
      "cell_type": "code",
      "source": [
        "def load_data():\n",
        "  data = pd.read_csv('dataset.csv')\n",
        "  return data"
      ],
      "metadata": {
        "id": "PHOKrm1yPwRY"
      },
      "execution_count": null,
      "outputs": []
    },
    {
      "cell_type": "code",
      "source": [
        "tweet_df = load_data()\n",
        "tweet_df.head()"
      ],
      "metadata": {
        "colab": {
          "base_uri": "https://localhost:8080/",
          "height": 310
        },
        "id": "b4jMwsfuQNdy",
        "outputId": "8db0361e-7e39-4c9e-c91a-bcdf1a1984a5"
      },
      "execution_count": null,
      "outputs": [
        {
          "output_type": "execute_result",
          "data": {
            "text/plain": [
              "   Unnamed: 0                                              tweet  \\\n",
              "0         951  Deep talk ternyata sepenting ituuu , dan selal...   \n",
              "1        2159  istg if anyone sets off any loud annoying ass ...   \n",
              "2         512  baca deh komen2 di postingan pak even, terharu...   \n",
              "3        2771  Love language yg paling ga gue bgt word of aff...   \n",
              "4        2722  literally almost everytime😌 https://t.co/13fgG...   \n",
              "\n",
              "                                       tweet-english  \\\n",
              "0  Deep talk turned out to be that important, and...   \n",
              "1  istg if anyone sets off any loud annoying ass ...   \n",
              "2  Read the comments in Pak Even's post, I was to...   \n",
              "3  Love language is the most I really word of aff...   \n",
              "4  literally almost everytime😌 https://t.co/13fgg...   \n",
              "\n",
              "                                          tweet-indo    label  \n",
              "0  Pembicaraan mendalam ternyata memisahkan Ituuu...  Positif  \n",
              "1  ISTG Jika ada yang memicu kembang api keledai ...  Negatif  \n",
              "2  BACA DEH Komen2 Di Postingan Pak bahkan, Terha...  Positif  \n",
              "3  Bahasa cinta yg paling ga gue bgt kata afirmas...  Positif  \n",
              "4  secara harfiah hampir setiap kali😌 https://t.c...   Netral  "
            ],
            "text/html": [
              "\n",
              "  <div id=\"df-151db29e-ea0b-4495-9c89-24ded8fb48e6\" class=\"colab-df-container\">\n",
              "    <div>\n",
              "<style scoped>\n",
              "    .dataframe tbody tr th:only-of-type {\n",
              "        vertical-align: middle;\n",
              "    }\n",
              "\n",
              "    .dataframe tbody tr th {\n",
              "        vertical-align: top;\n",
              "    }\n",
              "\n",
              "    .dataframe thead th {\n",
              "        text-align: right;\n",
              "    }\n",
              "</style>\n",
              "<table border=\"1\" class=\"dataframe\">\n",
              "  <thead>\n",
              "    <tr style=\"text-align: right;\">\n",
              "      <th></th>\n",
              "      <th>Unnamed: 0</th>\n",
              "      <th>tweet</th>\n",
              "      <th>tweet-english</th>\n",
              "      <th>tweet-indo</th>\n",
              "      <th>label</th>\n",
              "    </tr>\n",
              "  </thead>\n",
              "  <tbody>\n",
              "    <tr>\n",
              "      <th>0</th>\n",
              "      <td>951</td>\n",
              "      <td>Deep talk ternyata sepenting ituuu , dan selal...</td>\n",
              "      <td>Deep talk turned out to be that important, and...</td>\n",
              "      <td>Pembicaraan mendalam ternyata memisahkan Ituuu...</td>\n",
              "      <td>Positif</td>\n",
              "    </tr>\n",
              "    <tr>\n",
              "      <th>1</th>\n",
              "      <td>2159</td>\n",
              "      <td>istg if anyone sets off any loud annoying ass ...</td>\n",
              "      <td>istg if anyone sets off any loud annoying ass ...</td>\n",
              "      <td>ISTG Jika ada yang memicu kembang api keledai ...</td>\n",
              "      <td>Negatif</td>\n",
              "    </tr>\n",
              "    <tr>\n",
              "      <th>2</th>\n",
              "      <td>512</td>\n",
              "      <td>baca deh komen2 di postingan pak even, terharu...</td>\n",
              "      <td>Read the comments in Pak Even's post, I was to...</td>\n",
              "      <td>BACA DEH Komen2 Di Postingan Pak bahkan, Terha...</td>\n",
              "      <td>Positif</td>\n",
              "    </tr>\n",
              "    <tr>\n",
              "      <th>3</th>\n",
              "      <td>2771</td>\n",
              "      <td>Love language yg paling ga gue bgt word of aff...</td>\n",
              "      <td>Love language is the most I really word of aff...</td>\n",
              "      <td>Bahasa cinta yg paling ga gue bgt kata afirmas...</td>\n",
              "      <td>Positif</td>\n",
              "    </tr>\n",
              "    <tr>\n",
              "      <th>4</th>\n",
              "      <td>2722</td>\n",
              "      <td>literally almost everytime😌 https://t.co/13fgG...</td>\n",
              "      <td>literally almost everytime😌 https://t.co/13fgg...</td>\n",
              "      <td>secara harfiah hampir setiap kali😌 https://t.c...</td>\n",
              "      <td>Netral</td>\n",
              "    </tr>\n",
              "  </tbody>\n",
              "</table>\n",
              "</div>\n",
              "    <div class=\"colab-df-buttons\">\n",
              "\n",
              "  <div class=\"colab-df-container\">\n",
              "    <button class=\"colab-df-convert\" onclick=\"convertToInteractive('df-151db29e-ea0b-4495-9c89-24ded8fb48e6')\"\n",
              "            title=\"Convert this dataframe to an interactive table.\"\n",
              "            style=\"display:none;\">\n",
              "\n",
              "  <svg xmlns=\"http://www.w3.org/2000/svg\" height=\"24px\" viewBox=\"0 -960 960 960\">\n",
              "    <path d=\"M120-120v-720h720v720H120Zm60-500h600v-160H180v160Zm220 220h160v-160H400v160Zm0 220h160v-160H400v160ZM180-400h160v-160H180v160Zm440 0h160v-160H620v160ZM180-180h160v-160H180v160Zm440 0h160v-160H620v160Z\"/>\n",
              "  </svg>\n",
              "    </button>\n",
              "\n",
              "  <style>\n",
              "    .colab-df-container {\n",
              "      display:flex;\n",
              "      gap: 12px;\n",
              "    }\n",
              "\n",
              "    .colab-df-convert {\n",
              "      background-color: #E8F0FE;\n",
              "      border: none;\n",
              "      border-radius: 50%;\n",
              "      cursor: pointer;\n",
              "      display: none;\n",
              "      fill: #1967D2;\n",
              "      height: 32px;\n",
              "      padding: 0 0 0 0;\n",
              "      width: 32px;\n",
              "    }\n",
              "\n",
              "    .colab-df-convert:hover {\n",
              "      background-color: #E2EBFA;\n",
              "      box-shadow: 0px 1px 2px rgba(60, 64, 67, 0.3), 0px 1px 3px 1px rgba(60, 64, 67, 0.15);\n",
              "      fill: #174EA6;\n",
              "    }\n",
              "\n",
              "    .colab-df-buttons div {\n",
              "      margin-bottom: 4px;\n",
              "    }\n",
              "\n",
              "    [theme=dark] .colab-df-convert {\n",
              "      background-color: #3B4455;\n",
              "      fill: #D2E3FC;\n",
              "    }\n",
              "\n",
              "    [theme=dark] .colab-df-convert:hover {\n",
              "      background-color: #434B5C;\n",
              "      box-shadow: 0px 1px 3px 1px rgba(0, 0, 0, 0.15);\n",
              "      filter: drop-shadow(0px 1px 2px rgba(0, 0, 0, 0.3));\n",
              "      fill: #FFFFFF;\n",
              "    }\n",
              "  </style>\n",
              "\n",
              "    <script>\n",
              "      const buttonEl =\n",
              "        document.querySelector('#df-151db29e-ea0b-4495-9c89-24ded8fb48e6 button.colab-df-convert');\n",
              "      buttonEl.style.display =\n",
              "        google.colab.kernel.accessAllowed ? 'block' : 'none';\n",
              "\n",
              "      async function convertToInteractive(key) {\n",
              "        const element = document.querySelector('#df-151db29e-ea0b-4495-9c89-24ded8fb48e6');\n",
              "        const dataTable =\n",
              "          await google.colab.kernel.invokeFunction('convertToInteractive',\n",
              "                                                    [key], {});\n",
              "        if (!dataTable) return;\n",
              "\n",
              "        const docLinkHtml = 'Like what you see? Visit the ' +\n",
              "          '<a target=\"_blank\" href=https://colab.research.google.com/notebooks/data_table.ipynb>data table notebook</a>'\n",
              "          + ' to learn more about interactive tables.';\n",
              "        element.innerHTML = '';\n",
              "        dataTable['output_type'] = 'display_data';\n",
              "        await google.colab.output.renderOutput(dataTable, element);\n",
              "        const docLink = document.createElement('div');\n",
              "        docLink.innerHTML = docLinkHtml;\n",
              "        element.appendChild(docLink);\n",
              "      }\n",
              "    </script>\n",
              "  </div>\n",
              "\n",
              "\n",
              "<div id=\"df-08dd9e64-581c-4b1a-8086-1896d43ce56b\">\n",
              "  <button class=\"colab-df-quickchart\" onclick=\"quickchart('df-08dd9e64-581c-4b1a-8086-1896d43ce56b')\"\n",
              "            title=\"Suggest charts\"\n",
              "            style=\"display:none;\">\n",
              "\n",
              "<svg xmlns=\"http://www.w3.org/2000/svg\" height=\"24px\"viewBox=\"0 0 24 24\"\n",
              "     width=\"24px\">\n",
              "    <g>\n",
              "        <path d=\"M19 3H5c-1.1 0-2 .9-2 2v14c0 1.1.9 2 2 2h14c1.1 0 2-.9 2-2V5c0-1.1-.9-2-2-2zM9 17H7v-7h2v7zm4 0h-2V7h2v10zm4 0h-2v-4h2v4z\"/>\n",
              "    </g>\n",
              "</svg>\n",
              "  </button>\n",
              "\n",
              "<style>\n",
              "  .colab-df-quickchart {\n",
              "      --bg-color: #E8F0FE;\n",
              "      --fill-color: #1967D2;\n",
              "      --hover-bg-color: #E2EBFA;\n",
              "      --hover-fill-color: #174EA6;\n",
              "      --disabled-fill-color: #AAA;\n",
              "      --disabled-bg-color: #DDD;\n",
              "  }\n",
              "\n",
              "  [theme=dark] .colab-df-quickchart {\n",
              "      --bg-color: #3B4455;\n",
              "      --fill-color: #D2E3FC;\n",
              "      --hover-bg-color: #434B5C;\n",
              "      --hover-fill-color: #FFFFFF;\n",
              "      --disabled-bg-color: #3B4455;\n",
              "      --disabled-fill-color: #666;\n",
              "  }\n",
              "\n",
              "  .colab-df-quickchart {\n",
              "    background-color: var(--bg-color);\n",
              "    border: none;\n",
              "    border-radius: 50%;\n",
              "    cursor: pointer;\n",
              "    display: none;\n",
              "    fill: var(--fill-color);\n",
              "    height: 32px;\n",
              "    padding: 0;\n",
              "    width: 32px;\n",
              "  }\n",
              "\n",
              "  .colab-df-quickchart:hover {\n",
              "    background-color: var(--hover-bg-color);\n",
              "    box-shadow: 0 1px 2px rgba(60, 64, 67, 0.3), 0 1px 3px 1px rgba(60, 64, 67, 0.15);\n",
              "    fill: var(--button-hover-fill-color);\n",
              "  }\n",
              "\n",
              "  .colab-df-quickchart-complete:disabled,\n",
              "  .colab-df-quickchart-complete:disabled:hover {\n",
              "    background-color: var(--disabled-bg-color);\n",
              "    fill: var(--disabled-fill-color);\n",
              "    box-shadow: none;\n",
              "  }\n",
              "\n",
              "  .colab-df-spinner {\n",
              "    border: 2px solid var(--fill-color);\n",
              "    border-color: transparent;\n",
              "    border-bottom-color: var(--fill-color);\n",
              "    animation:\n",
              "      spin 1s steps(1) infinite;\n",
              "  }\n",
              "\n",
              "  @keyframes spin {\n",
              "    0% {\n",
              "      border-color: transparent;\n",
              "      border-bottom-color: var(--fill-color);\n",
              "      border-left-color: var(--fill-color);\n",
              "    }\n",
              "    20% {\n",
              "      border-color: transparent;\n",
              "      border-left-color: var(--fill-color);\n",
              "      border-top-color: var(--fill-color);\n",
              "    }\n",
              "    30% {\n",
              "      border-color: transparent;\n",
              "      border-left-color: var(--fill-color);\n",
              "      border-top-color: var(--fill-color);\n",
              "      border-right-color: var(--fill-color);\n",
              "    }\n",
              "    40% {\n",
              "      border-color: transparent;\n",
              "      border-right-color: var(--fill-color);\n",
              "      border-top-color: var(--fill-color);\n",
              "    }\n",
              "    60% {\n",
              "      border-color: transparent;\n",
              "      border-right-color: var(--fill-color);\n",
              "    }\n",
              "    80% {\n",
              "      border-color: transparent;\n",
              "      border-right-color: var(--fill-color);\n",
              "      border-bottom-color: var(--fill-color);\n",
              "    }\n",
              "    90% {\n",
              "      border-color: transparent;\n",
              "      border-bottom-color: var(--fill-color);\n",
              "    }\n",
              "  }\n",
              "</style>\n",
              "\n",
              "  <script>\n",
              "    async function quickchart(key) {\n",
              "      const quickchartButtonEl =\n",
              "        document.querySelector('#' + key + ' button');\n",
              "      quickchartButtonEl.disabled = true;  // To prevent multiple clicks.\n",
              "      quickchartButtonEl.classList.add('colab-df-spinner');\n",
              "      try {\n",
              "        const charts = await google.colab.kernel.invokeFunction(\n",
              "            'suggestCharts', [key], {});\n",
              "      } catch (error) {\n",
              "        console.error('Error during call to suggestCharts:', error);\n",
              "      }\n",
              "      quickchartButtonEl.classList.remove('colab-df-spinner');\n",
              "      quickchartButtonEl.classList.add('colab-df-quickchart-complete');\n",
              "    }\n",
              "    (() => {\n",
              "      let quickchartButtonEl =\n",
              "        document.querySelector('#df-08dd9e64-581c-4b1a-8086-1896d43ce56b button');\n",
              "      quickchartButtonEl.style.display =\n",
              "        google.colab.kernel.accessAllowed ? 'block' : 'none';\n",
              "    })();\n",
              "  </script>\n",
              "</div>\n",
              "\n",
              "    </div>\n",
              "  </div>\n"
            ],
            "application/vnd.google.colaboratory.intrinsic+json": {
              "type": "dataframe",
              "variable_name": "tweet_df",
              "summary": "{\n  \"name\": \"tweet_df\",\n  \"rows\": 5067,\n  \"fields\": [\n    {\n      \"column\": \"Unnamed: 0\",\n      \"properties\": {\n        \"dtype\": \"number\",\n        \"std\": 1462,\n        \"min\": 1,\n        \"max\": 5067,\n        \"num_unique_values\": 5067,\n        \"samples\": [\n          945,\n          2753,\n          3923\n        ],\n        \"semantic_type\": \"\",\n        \"description\": \"\"\n      }\n    },\n    {\n      \"column\": \"tweet\",\n      \"properties\": {\n        \"dtype\": \"string\",\n        \"num_unique_values\": 5067,\n        \"samples\": [\n          \"deep session &amp; deep talk @ Jakarta, Indonesia https://t.co/YL5zUIJy9x\",\n          \"Lmao is abbreviation of Laughing My Ass Off   Actually it means bokong ku ngakak\",\n          \"Semakin bertambah umur kenapa ye semakin overthinking padahal mah belum tentu apa yg difikirkan terjadi, emang kudu dirawat \\\"husnudzon\\\" itu di pikiran dan hati\"\n        ],\n        \"semantic_type\": \"\",\n        \"description\": \"\"\n      }\n    },\n    {\n      \"column\": \"tweet-english\",\n      \"properties\": {\n        \"dtype\": \"string\",\n        \"num_unique_values\": 5066,\n        \"samples\": [\n          \"Duar directly overthinking\",\n          \"Finally Active IG, after more than a month. Wkwk kepo with the life of people \\ud83e\\udd23\",\n          \"Traders Status in Contact W Salty Abis Because FPI Disbands \\ud83e\\udd23\\ud83e\\udd23\\ud83e\\udd23 I always follow every football, ukhti. Sales status and national status.\"\n        ],\n        \"semantic_type\": \"\",\n        \"description\": \"\"\n      }\n    },\n    {\n      \"column\": \"tweet-indo\",\n      \"properties\": {\n        \"dtype\": \"string\",\n        \"num_unique_values\": 5066,\n        \"samples\": [\n          \"Duar Langsung terlalu banyak berpikir\",\n          \"Akhirnyaa Active IG, Setelah Sebulan Lebih Off. Wkwk kepo sama keehidupan org org \\ud83e\\udd23\",\n          \"Status Pedagang Di Kontak W Salty Abis Karena FPI Bubar \\ud83e\\udd23\\ud83e\\udd23\\ud83e\\udd23 Ku Selalu MengIKuti Setiap Sepak Terjangmu, UKHTI. Status JUALAN MAUPUN Status Kebangsaan.\"\n        ],\n        \"semantic_type\": \"\",\n        \"description\": \"\"\n      }\n    },\n    {\n      \"column\": \"label\",\n      \"properties\": {\n        \"dtype\": \"category\",\n        \"num_unique_values\": 3,\n        \"samples\": [\n          \"Positif\",\n          \"Negatif\",\n          \"Netral\"\n        ],\n        \"semantic_type\": \"\",\n        \"description\": \"\"\n      }\n    }\n  ]\n}"
            }
          },
          "metadata": {},
          "execution_count": 3
        }
      ]
    },
    {
      "cell_type": "code",
      "source": [
        "def indonesia_normalized_tweet(tweet):\n",
        "    df_colloquial_indonesian = pd.read_csv(\n",
        "        r\"colloquial-indonesian-lexicon.csv\", sep=\",\")\n",
        "\n",
        "    lookup_dict = dict(zip(df_colloquial_indonesian.slang,\n",
        "                           df_colloquial_indonesian.formal))\n",
        "    temp = tweet.split()\n",
        "    res = []\n",
        "    for wrd in temp:\n",
        "        res.append(lookup_dict.get(wrd, wrd))\n",
        "    res = \" \".join(res)\n",
        "    return res"
      ],
      "metadata": {
        "id": "tGZ6L1CAONwm"
      },
      "execution_count": null,
      "outputs": []
    },
    {
      "cell_type": "code",
      "source": [
        "tweet_df['tweet'] = tweet_df['tweet'].apply(indonesia_normalized_tweet)"
      ],
      "metadata": {
        "id": "eJKPSTegQ7sK"
      },
      "execution_count": null,
      "outputs": []
    },
    {
      "cell_type": "code",
      "source": [
        "print(tweet_df[['tweet', 'label']].head())"
      ],
      "metadata": {
        "colab": {
          "base_uri": "https://localhost:8080/"
        },
        "id": "MP3F3XVARF_l",
        "outputId": "f644d7b3-bd2c-492f-d06f-d7fe27d6dadc"
      },
      "execution_count": null,
      "outputs": [
        {
          "output_type": "stream",
          "name": "stdout",
          "text": [
            "                                        colloquial_3    label\n",
            "0  deep talk ternyata sepenting itu , dan selalu ...  Positif\n",
            "1  istg if anyone sets off any loud annoying ****...  Negatif\n",
            "2  baca deh komen-komen di postingan pak even, te...  Positif\n",
            "3  love language yang paling enggak gue banget wo...  Positif\n",
            "4                        literally almost everytime😌   Netral\n"
          ]
        }
      ]
    },
    {
      "cell_type": "code",
      "source": [
        "# Select only the columns 'emoji_en' and 'label'\n",
        "df_filtered = tweet_df[['colloquial_3', 'label']]\n",
        "\n",
        "# Save the selected columns to a new CSV file\n",
        "df_filtered.to_csv('skena3.csv', index=False)\n",
        "\n",
        "# If you want to download the file in Google Colab\n",
        "# from google.colab import files\n",
        "# files.download('skena3.csv')"
      ],
      "metadata": {
        "id": "OJonB5HYSSEA"
      },
      "execution_count": null,
      "outputs": []
    },
    {
      "cell_type": "markdown",
      "source": [
        "**SPLIT DATA**"
      ],
      "metadata": {
        "id": "aJ_QathyZXIB"
      }
    },
    {
      "cell_type": "code",
      "source": [
        "# Splitting the data into train, test, and validation sets\n",
        "train_data = df_filtered.iloc[0:3638]\n",
        "test_data = df_filtered.iloc[3639:4650]\n",
        "validation_data = df_filtered.iloc[4651:5050]"
      ],
      "metadata": {
        "id": "5MjX3cTCZVDC"
      },
      "execution_count": null,
      "outputs": []
    },
    {
      "cell_type": "code",
      "source": [
        "print(train_data)\n",
        "print(test_data)"
      ],
      "metadata": {
        "colab": {
          "base_uri": "https://localhost:8080/"
        },
        "id": "VV7l9PB6TfEV",
        "outputId": "62c21d55-1c17-4f48-f209-cdc2cdb0c1cf"
      },
      "execution_count": null,
      "outputs": [
        {
          "output_type": "stream",
          "name": "stdout",
          "text": [
            "                                           colloquial_3    label\n",
            "0     deep talk ternyata sepenting itu , dan selalu ...  Positif\n",
            "1     istg if anyone sets off any loud annoying ****...  Negatif\n",
            "2     baca deh komen-komen di postingan pak even, te...  Positif\n",
            "3     love language yang paling enggak gue banget wo...  Positif\n",
            "4                           literally almost everytime😌   Netral\n",
            "...                                                 ...      ...\n",
            "3633            around we go @ baby tools rental kediri   Netral\n",
            "3634                       jam² rawan overthinking🙎🏼‍♀️  Negatif\n",
            "3635  naik kapal mah cepat , yang lama itu antri seb...  Negatif\n",
            "3636  2020 : gue merasai yang namanya seneng, sedih,...  Positif\n",
            "3637  teman - teman asik pada healing, lah gue malah...  Negatif\n",
            "\n",
            "[3638 rows x 2 columns]\n",
            "                                           colloquial_3    label\n",
            "3639  sosok leader yang humble,yg care,yg memang say...  Positif\n",
            "3640  mimpinya sudah staycation saja . tapi yagitu d...  Negatif\n",
            "3641                       mari menyibukkan diri bestie  Positif\n",
            "3642  when most people sayang that time is money, i ...  Negatif\n",
            "3643  sok mulai overwhelmed skrg.. the thought that ...  Negatif\n",
            "...                                                 ...      ...\n",
            "4645  aku sudah mulai apatis sama donasi donasi di m...  Negatif\n",
            "4646  well, even director of studio choom said that ...  Positif\n",
            "4647  disaat gua lagi kepo sama hidup orang lain, di...  Negatif\n",
            "4648  idk somehow those \"gelay\" and \"mleyot\" sounds ...  Negatif\n",
            "4649       mood swing nya ngelebihin cewek ****: gemini  Negatif\n",
            "\n",
            "[1011 rows x 2 columns]\n"
          ]
        }
      ]
    },
    {
      "cell_type": "code",
      "source": [
        "# Saving the split datasets to CSV files in Google Colab environment\n",
        "train_data.to_csv('training3.csv', index=False)\n",
        "test_data.to_csv('test3.csv', index=False)\n",
        "validation_data.to_csv('validation3.csv', index=False)\n",
        "\n",
        "# If you want to download the files after saving them\n",
        "from google.colab import files\n",
        "files.download('training3.csv')\n",
        "files.download('test3.csv')\n",
        "files.download('validation3.csv')"
      ],
      "metadata": {
        "colab": {
          "base_uri": "https://localhost:8080/",
          "height": 17
        },
        "id": "XTMMnMA_j3j-",
        "outputId": "ea0512de-00ea-47a5-e39e-1a20643c4500"
      },
      "execution_count": null,
      "outputs": [
        {
          "output_type": "display_data",
          "data": {
            "text/plain": [
              "<IPython.core.display.Javascript object>"
            ],
            "application/javascript": [
              "\n",
              "    async function download(id, filename, size) {\n",
              "      if (!google.colab.kernel.accessAllowed) {\n",
              "        return;\n",
              "      }\n",
              "      const div = document.createElement('div');\n",
              "      const label = document.createElement('label');\n",
              "      label.textContent = `Downloading \"${filename}\": `;\n",
              "      div.appendChild(label);\n",
              "      const progress = document.createElement('progress');\n",
              "      progress.max = size;\n",
              "      div.appendChild(progress);\n",
              "      document.body.appendChild(div);\n",
              "\n",
              "      const buffers = [];\n",
              "      let downloaded = 0;\n",
              "\n",
              "      const channel = await google.colab.kernel.comms.open(id);\n",
              "      // Send a message to notify the kernel that we're ready.\n",
              "      channel.send({})\n",
              "\n",
              "      for await (const message of channel.messages) {\n",
              "        // Send a message to notify the kernel that we're ready.\n",
              "        channel.send({})\n",
              "        if (message.buffers) {\n",
              "          for (const buffer of message.buffers) {\n",
              "            buffers.push(buffer);\n",
              "            downloaded += buffer.byteLength;\n",
              "            progress.value = downloaded;\n",
              "          }\n",
              "        }\n",
              "      }\n",
              "      const blob = new Blob(buffers, {type: 'application/binary'});\n",
              "      const a = document.createElement('a');\n",
              "      a.href = window.URL.createObjectURL(blob);\n",
              "      a.download = filename;\n",
              "      div.appendChild(a);\n",
              "      a.click();\n",
              "      div.remove();\n",
              "    }\n",
              "  "
            ]
          },
          "metadata": {}
        },
        {
          "output_type": "display_data",
          "data": {
            "text/plain": [
              "<IPython.core.display.Javascript object>"
            ],
            "application/javascript": [
              "download(\"download_17895b14-2acf-4986-8e6d-26869898e624\", \"training3.csv\", 435870)"
            ]
          },
          "metadata": {}
        },
        {
          "output_type": "display_data",
          "data": {
            "text/plain": [
              "<IPython.core.display.Javascript object>"
            ],
            "application/javascript": [
              "\n",
              "    async function download(id, filename, size) {\n",
              "      if (!google.colab.kernel.accessAllowed) {\n",
              "        return;\n",
              "      }\n",
              "      const div = document.createElement('div');\n",
              "      const label = document.createElement('label');\n",
              "      label.textContent = `Downloading \"${filename}\": `;\n",
              "      div.appendChild(label);\n",
              "      const progress = document.createElement('progress');\n",
              "      progress.max = size;\n",
              "      div.appendChild(progress);\n",
              "      document.body.appendChild(div);\n",
              "\n",
              "      const buffers = [];\n",
              "      let downloaded = 0;\n",
              "\n",
              "      const channel = await google.colab.kernel.comms.open(id);\n",
              "      // Send a message to notify the kernel that we're ready.\n",
              "      channel.send({})\n",
              "\n",
              "      for await (const message of channel.messages) {\n",
              "        // Send a message to notify the kernel that we're ready.\n",
              "        channel.send({})\n",
              "        if (message.buffers) {\n",
              "          for (const buffer of message.buffers) {\n",
              "            buffers.push(buffer);\n",
              "            downloaded += buffer.byteLength;\n",
              "            progress.value = downloaded;\n",
              "          }\n",
              "        }\n",
              "      }\n",
              "      const blob = new Blob(buffers, {type: 'application/binary'});\n",
              "      const a = document.createElement('a');\n",
              "      a.href = window.URL.createObjectURL(blob);\n",
              "      a.download = filename;\n",
              "      div.appendChild(a);\n",
              "      a.click();\n",
              "      div.remove();\n",
              "    }\n",
              "  "
            ]
          },
          "metadata": {}
        },
        {
          "output_type": "display_data",
          "data": {
            "text/plain": [
              "<IPython.core.display.Javascript object>"
            ],
            "application/javascript": [
              "download(\"download_aabb9864-24fe-4b6d-9af4-e222e3afcd8f\", \"test3.csv\", 115363)"
            ]
          },
          "metadata": {}
        },
        {
          "output_type": "display_data",
          "data": {
            "text/plain": [
              "<IPython.core.display.Javascript object>"
            ],
            "application/javascript": [
              "\n",
              "    async function download(id, filename, size) {\n",
              "      if (!google.colab.kernel.accessAllowed) {\n",
              "        return;\n",
              "      }\n",
              "      const div = document.createElement('div');\n",
              "      const label = document.createElement('label');\n",
              "      label.textContent = `Downloading \"${filename}\": `;\n",
              "      div.appendChild(label);\n",
              "      const progress = document.createElement('progress');\n",
              "      progress.max = size;\n",
              "      div.appendChild(progress);\n",
              "      document.body.appendChild(div);\n",
              "\n",
              "      const buffers = [];\n",
              "      let downloaded = 0;\n",
              "\n",
              "      const channel = await google.colab.kernel.comms.open(id);\n",
              "      // Send a message to notify the kernel that we're ready.\n",
              "      channel.send({})\n",
              "\n",
              "      for await (const message of channel.messages) {\n",
              "        // Send a message to notify the kernel that we're ready.\n",
              "        channel.send({})\n",
              "        if (message.buffers) {\n",
              "          for (const buffer of message.buffers) {\n",
              "            buffers.push(buffer);\n",
              "            downloaded += buffer.byteLength;\n",
              "            progress.value = downloaded;\n",
              "          }\n",
              "        }\n",
              "      }\n",
              "      const blob = new Blob(buffers, {type: 'application/binary'});\n",
              "      const a = document.createElement('a');\n",
              "      a.href = window.URL.createObjectURL(blob);\n",
              "      a.download = filename;\n",
              "      div.appendChild(a);\n",
              "      a.click();\n",
              "      div.remove();\n",
              "    }\n",
              "  "
            ]
          },
          "metadata": {}
        },
        {
          "output_type": "display_data",
          "data": {
            "text/plain": [
              "<IPython.core.display.Javascript object>"
            ],
            "application/javascript": [
              "download(\"download_e94c3227-bcfa-40ce-b243-202ceb64a6a2\", \"validation3.csv\", 49181)"
            ]
          },
          "metadata": {}
        }
      ]
    },
    {
      "cell_type": "code",
      "source": [],
      "metadata": {
        "id": "zn3pIxLOj9_w"
      },
      "execution_count": null,
      "outputs": []
    }
  ]
}