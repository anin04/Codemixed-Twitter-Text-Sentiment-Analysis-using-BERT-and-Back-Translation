{
  "nbformat": 4,
  "nbformat_minor": 0,
  "metadata": {
    "colab": {
      "provenance": []
    },
    "kernelspec": {
      "name": "python3",
      "display_name": "Python 3"
    },
    "language_info": {
      "name": "python"
    }
  },
  "cells": [
    {
      "cell_type": "code",
      "source": [
        "!pip install emoji"
      ],
      "metadata": {
        "colab": {
          "base_uri": "https://localhost:8080/"
        },
        "id": "eSAshLgA_o_j",
        "outputId": "2a02fd03-403c-4ea4-f460-bc464e56d30d"
      },
      "execution_count": null,
      "outputs": [
        {
          "output_type": "stream",
          "name": "stdout",
          "text": [
            "Collecting emoji\n",
            "  Downloading emoji-2.14.1-py3-none-any.whl.metadata (5.7 kB)\n",
            "Downloading emoji-2.14.1-py3-none-any.whl (590 kB)\n",
            "\u001b[?25l   \u001b[90m━━━━━━━━━━━━━━━━━━━━━━━━━━━━━━━━━━━━━━━━\u001b[0m \u001b[32m0.0/590.6 kB\u001b[0m \u001b[31m?\u001b[0m eta \u001b[36m-:--:--\u001b[0m\r\u001b[2K   \u001b[91m━━━━━━\u001b[0m\u001b[90m╺\u001b[0m\u001b[90m━━━━━━━━━━━━━━━━━━━━━━━━━━━━━━━━━\u001b[0m \u001b[32m92.2/590.6 kB\u001b[0m \u001b[31m2.8 MB/s\u001b[0m eta \u001b[36m0:00:01\u001b[0m\r\u001b[2K   \u001b[91m━━━━━━━━━━━━━━━━━━━━━━━━━━━━━━━━━━━━━━━\u001b[0m\u001b[91m╸\u001b[0m \u001b[32m583.7/590.6 kB\u001b[0m \u001b[31m9.4 MB/s\u001b[0m eta \u001b[36m0:00:01\u001b[0m\r\u001b[2K   \u001b[90m━━━━━━━━━━━━━━━━━━━━━━━━━━━━━━━━━━━━━━━━\u001b[0m \u001b[32m590.6/590.6 kB\u001b[0m \u001b[31m6.5 MB/s\u001b[0m eta \u001b[36m0:00:00\u001b[0m\n",
            "\u001b[?25hInstalling collected packages: emoji\n",
            "Successfully installed emoji-2.14.1\n"
          ]
        }
      ]
    },
    {
      "cell_type": "code",
      "source": [
        "!pip install better-profanity"
      ],
      "metadata": {
        "colab": {
          "base_uri": "https://localhost:8080/"
        },
        "id": "auKWAV4uiJNu",
        "outputId": "15080dc0-bf1a-4064-f144-170e608be94e"
      },
      "execution_count": null,
      "outputs": [
        {
          "output_type": "stream",
          "name": "stdout",
          "text": [
            "Collecting better-profanity\n",
            "  Downloading better_profanity-0.7.0-py3-none-any.whl.metadata (7.1 kB)\n",
            "Downloading better_profanity-0.7.0-py3-none-any.whl (46 kB)\n",
            "\u001b[?25l   \u001b[90m━━━━━━━━━━━━━━━━━━━━━━━━━━━━━━━━━━━━━━━━\u001b[0m \u001b[32m0.0/46.1 kB\u001b[0m \u001b[31m?\u001b[0m eta \u001b[36m-:--:--\u001b[0m\r\u001b[2K   \u001b[90m━━━━━━━━━━━━━━━━━━━━━━━━━━━━━━━━━━━━━━━━\u001b[0m \u001b[32m46.1/46.1 kB\u001b[0m \u001b[31m1.4 MB/s\u001b[0m eta \u001b[36m0:00:00\u001b[0m\n",
            "\u001b[?25hInstalling collected packages: better-profanity\n",
            "Successfully installed better-profanity-0.7.0\n"
          ]
        }
      ]
    },
    {
      "cell_type": "code",
      "execution_count": null,
      "metadata": {
        "id": "JPiIJgsG_d_B"
      },
      "outputs": [],
      "source": [
        "import emoji\n",
        "import re\n",
        "import pandas as pd"
      ]
    },
    {
      "cell_type": "code",
      "source": [
        "def load_data():\n",
        "  data = pd.read_csv('cleaned_tweetIng.csv')\n",
        "  return data"
      ],
      "metadata": {
        "id": "VKVreMRP_js4"
      },
      "execution_count": null,
      "outputs": []
    },
    {
      "cell_type": "code",
      "source": [
        "tweet_df = load_data()\n",
        "tweet_df.head()"
      ],
      "metadata": {
        "colab": {
          "base_uri": "https://localhost:8080/",
          "height": 206
        },
        "id": "JKt0AS9dAEK2",
        "outputId": "88410765-fa16-4680-aefe-7327498ffde8"
      },
      "execution_count": null,
      "outputs": [
        {
          "output_type": "execute_result",
          "data": {
            "text/plain": [
              "                                             monoeng  \\\n",
              "0  Deep talk turns out to be that important, and ...   \n",
              "1  istg if anyone sets off any loud annoying ass ...   \n",
              "2  Read the comments on Mr. Even's post, I'm real...   \n",
              "3  My least favorite love language is words of af...   \n",
              "4  literally almost everytime😌 https://t.co/13fgG...   \n",
              "\n",
              "                                              monoin    label  \\\n",
              "0  Deep talk ternyata sepenting ituuu , dan selal...  Positif   \n",
              "1  istg jika ada yang menyalakan kembang api yang...  Negatif   \n",
              "2  baca deh komen2 di postingan pak even, terharu...  Positif   \n",
              "3  Bahasa cinta yg paling ga gue bgt kata afirmas...  Positif   \n",
              "4  secara harfiah hampir setiap saat😌 https://t.c...   Netral   \n",
              "\n",
              "                                       cleaned_tweet  \n",
              "0  deep talk turns out to be that important, and ...  \n",
              "1  istg if anyone sets off any loud annoying ****...  \n",
              "2  read the comments on mr. even's post, i'm real...  \n",
              "3  my least favorite love language is words of af...  \n",
              "4                        literally almost everytime😌  "
            ],
            "text/html": [
              "\n",
              "  <div id=\"df-79fe6c37-4a4c-4fc6-9dd9-b7d1f1868349\" class=\"colab-df-container\">\n",
              "    <div>\n",
              "<style scoped>\n",
              "    .dataframe tbody tr th:only-of-type {\n",
              "        vertical-align: middle;\n",
              "    }\n",
              "\n",
              "    .dataframe tbody tr th {\n",
              "        vertical-align: top;\n",
              "    }\n",
              "\n",
              "    .dataframe thead th {\n",
              "        text-align: right;\n",
              "    }\n",
              "</style>\n",
              "<table border=\"1\" class=\"dataframe\">\n",
              "  <thead>\n",
              "    <tr style=\"text-align: right;\">\n",
              "      <th></th>\n",
              "      <th>monoeng</th>\n",
              "      <th>monoin</th>\n",
              "      <th>label</th>\n",
              "      <th>cleaned_tweet</th>\n",
              "    </tr>\n",
              "  </thead>\n",
              "  <tbody>\n",
              "    <tr>\n",
              "      <th>0</th>\n",
              "      <td>Deep talk turns out to be that important, and ...</td>\n",
              "      <td>Deep talk ternyata sepenting ituuu , dan selal...</td>\n",
              "      <td>Positif</td>\n",
              "      <td>deep talk turns out to be that important, and ...</td>\n",
              "    </tr>\n",
              "    <tr>\n",
              "      <th>1</th>\n",
              "      <td>istg if anyone sets off any loud annoying ass ...</td>\n",
              "      <td>istg jika ada yang menyalakan kembang api yang...</td>\n",
              "      <td>Negatif</td>\n",
              "      <td>istg if anyone sets off any loud annoying ****...</td>\n",
              "    </tr>\n",
              "    <tr>\n",
              "      <th>2</th>\n",
              "      <td>Read the comments on Mr. Even's post, I'm real...</td>\n",
              "      <td>baca deh komen2 di postingan pak even, terharu...</td>\n",
              "      <td>Positif</td>\n",
              "      <td>read the comments on mr. even's post, i'm real...</td>\n",
              "    </tr>\n",
              "    <tr>\n",
              "      <th>3</th>\n",
              "      <td>My least favorite love language is words of af...</td>\n",
              "      <td>Bahasa cinta yg paling ga gue bgt kata afirmas...</td>\n",
              "      <td>Positif</td>\n",
              "      <td>my least favorite love language is words of af...</td>\n",
              "    </tr>\n",
              "    <tr>\n",
              "      <th>4</th>\n",
              "      <td>literally almost everytime😌 https://t.co/13fgG...</td>\n",
              "      <td>secara harfiah hampir setiap saat😌 https://t.c...</td>\n",
              "      <td>Netral</td>\n",
              "      <td>literally almost everytime😌</td>\n",
              "    </tr>\n",
              "  </tbody>\n",
              "</table>\n",
              "</div>\n",
              "    <div class=\"colab-df-buttons\">\n",
              "\n",
              "  <div class=\"colab-df-container\">\n",
              "    <button class=\"colab-df-convert\" onclick=\"convertToInteractive('df-79fe6c37-4a4c-4fc6-9dd9-b7d1f1868349')\"\n",
              "            title=\"Convert this dataframe to an interactive table.\"\n",
              "            style=\"display:none;\">\n",
              "\n",
              "  <svg xmlns=\"http://www.w3.org/2000/svg\" height=\"24px\" viewBox=\"0 -960 960 960\">\n",
              "    <path d=\"M120-120v-720h720v720H120Zm60-500h600v-160H180v160Zm220 220h160v-160H400v160Zm0 220h160v-160H400v160ZM180-400h160v-160H180v160Zm440 0h160v-160H620v160ZM180-180h160v-160H180v160Zm440 0h160v-160H620v160Z\"/>\n",
              "  </svg>\n",
              "    </button>\n",
              "\n",
              "  <style>\n",
              "    .colab-df-container {\n",
              "      display:flex;\n",
              "      gap: 12px;\n",
              "    }\n",
              "\n",
              "    .colab-df-convert {\n",
              "      background-color: #E8F0FE;\n",
              "      border: none;\n",
              "      border-radius: 50%;\n",
              "      cursor: pointer;\n",
              "      display: none;\n",
              "      fill: #1967D2;\n",
              "      height: 32px;\n",
              "      padding: 0 0 0 0;\n",
              "      width: 32px;\n",
              "    }\n",
              "\n",
              "    .colab-df-convert:hover {\n",
              "      background-color: #E2EBFA;\n",
              "      box-shadow: 0px 1px 2px rgba(60, 64, 67, 0.3), 0px 1px 3px 1px rgba(60, 64, 67, 0.15);\n",
              "      fill: #174EA6;\n",
              "    }\n",
              "\n",
              "    .colab-df-buttons div {\n",
              "      margin-bottom: 4px;\n",
              "    }\n",
              "\n",
              "    [theme=dark] .colab-df-convert {\n",
              "      background-color: #3B4455;\n",
              "      fill: #D2E3FC;\n",
              "    }\n",
              "\n",
              "    [theme=dark] .colab-df-convert:hover {\n",
              "      background-color: #434B5C;\n",
              "      box-shadow: 0px 1px 3px 1px rgba(0, 0, 0, 0.15);\n",
              "      filter: drop-shadow(0px 1px 2px rgba(0, 0, 0, 0.3));\n",
              "      fill: #FFFFFF;\n",
              "    }\n",
              "  </style>\n",
              "\n",
              "    <script>\n",
              "      const buttonEl =\n",
              "        document.querySelector('#df-79fe6c37-4a4c-4fc6-9dd9-b7d1f1868349 button.colab-df-convert');\n",
              "      buttonEl.style.display =\n",
              "        google.colab.kernel.accessAllowed ? 'block' : 'none';\n",
              "\n",
              "      async function convertToInteractive(key) {\n",
              "        const element = document.querySelector('#df-79fe6c37-4a4c-4fc6-9dd9-b7d1f1868349');\n",
              "        const dataTable =\n",
              "          await google.colab.kernel.invokeFunction('convertToInteractive',\n",
              "                                                    [key], {});\n",
              "        if (!dataTable) return;\n",
              "\n",
              "        const docLinkHtml = 'Like what you see? Visit the ' +\n",
              "          '<a target=\"_blank\" href=https://colab.research.google.com/notebooks/data_table.ipynb>data table notebook</a>'\n",
              "          + ' to learn more about interactive tables.';\n",
              "        element.innerHTML = '';\n",
              "        dataTable['output_type'] = 'display_data';\n",
              "        await google.colab.output.renderOutput(dataTable, element);\n",
              "        const docLink = document.createElement('div');\n",
              "        docLink.innerHTML = docLinkHtml;\n",
              "        element.appendChild(docLink);\n",
              "      }\n",
              "    </script>\n",
              "  </div>\n",
              "\n",
              "\n",
              "<div id=\"df-0cb2f895-cecb-463b-ad79-a11c7fc09ae1\">\n",
              "  <button class=\"colab-df-quickchart\" onclick=\"quickchart('df-0cb2f895-cecb-463b-ad79-a11c7fc09ae1')\"\n",
              "            title=\"Suggest charts\"\n",
              "            style=\"display:none;\">\n",
              "\n",
              "<svg xmlns=\"http://www.w3.org/2000/svg\" height=\"24px\"viewBox=\"0 0 24 24\"\n",
              "     width=\"24px\">\n",
              "    <g>\n",
              "        <path d=\"M19 3H5c-1.1 0-2 .9-2 2v14c0 1.1.9 2 2 2h14c1.1 0 2-.9 2-2V5c0-1.1-.9-2-2-2zM9 17H7v-7h2v7zm4 0h-2V7h2v10zm4 0h-2v-4h2v4z\"/>\n",
              "    </g>\n",
              "</svg>\n",
              "  </button>\n",
              "\n",
              "<style>\n",
              "  .colab-df-quickchart {\n",
              "      --bg-color: #E8F0FE;\n",
              "      --fill-color: #1967D2;\n",
              "      --hover-bg-color: #E2EBFA;\n",
              "      --hover-fill-color: #174EA6;\n",
              "      --disabled-fill-color: #AAA;\n",
              "      --disabled-bg-color: #DDD;\n",
              "  }\n",
              "\n",
              "  [theme=dark] .colab-df-quickchart {\n",
              "      --bg-color: #3B4455;\n",
              "      --fill-color: #D2E3FC;\n",
              "      --hover-bg-color: #434B5C;\n",
              "      --hover-fill-color: #FFFFFF;\n",
              "      --disabled-bg-color: #3B4455;\n",
              "      --disabled-fill-color: #666;\n",
              "  }\n",
              "\n",
              "  .colab-df-quickchart {\n",
              "    background-color: var(--bg-color);\n",
              "    border: none;\n",
              "    border-radius: 50%;\n",
              "    cursor: pointer;\n",
              "    display: none;\n",
              "    fill: var(--fill-color);\n",
              "    height: 32px;\n",
              "    padding: 0;\n",
              "    width: 32px;\n",
              "  }\n",
              "\n",
              "  .colab-df-quickchart:hover {\n",
              "    background-color: var(--hover-bg-color);\n",
              "    box-shadow: 0 1px 2px rgba(60, 64, 67, 0.3), 0 1px 3px 1px rgba(60, 64, 67, 0.15);\n",
              "    fill: var(--button-hover-fill-color);\n",
              "  }\n",
              "\n",
              "  .colab-df-quickchart-complete:disabled,\n",
              "  .colab-df-quickchart-complete:disabled:hover {\n",
              "    background-color: var(--disabled-bg-color);\n",
              "    fill: var(--disabled-fill-color);\n",
              "    box-shadow: none;\n",
              "  }\n",
              "\n",
              "  .colab-df-spinner {\n",
              "    border: 2px solid var(--fill-color);\n",
              "    border-color: transparent;\n",
              "    border-bottom-color: var(--fill-color);\n",
              "    animation:\n",
              "      spin 1s steps(1) infinite;\n",
              "  }\n",
              "\n",
              "  @keyframes spin {\n",
              "    0% {\n",
              "      border-color: transparent;\n",
              "      border-bottom-color: var(--fill-color);\n",
              "      border-left-color: var(--fill-color);\n",
              "    }\n",
              "    20% {\n",
              "      border-color: transparent;\n",
              "      border-left-color: var(--fill-color);\n",
              "      border-top-color: var(--fill-color);\n",
              "    }\n",
              "    30% {\n",
              "      border-color: transparent;\n",
              "      border-left-color: var(--fill-color);\n",
              "      border-top-color: var(--fill-color);\n",
              "      border-right-color: var(--fill-color);\n",
              "    }\n",
              "    40% {\n",
              "      border-color: transparent;\n",
              "      border-right-color: var(--fill-color);\n",
              "      border-top-color: var(--fill-color);\n",
              "    }\n",
              "    60% {\n",
              "      border-color: transparent;\n",
              "      border-right-color: var(--fill-color);\n",
              "    }\n",
              "    80% {\n",
              "      border-color: transparent;\n",
              "      border-right-color: var(--fill-color);\n",
              "      border-bottom-color: var(--fill-color);\n",
              "    }\n",
              "    90% {\n",
              "      border-color: transparent;\n",
              "      border-bottom-color: var(--fill-color);\n",
              "    }\n",
              "  }\n",
              "</style>\n",
              "\n",
              "  <script>\n",
              "    async function quickchart(key) {\n",
              "      const quickchartButtonEl =\n",
              "        document.querySelector('#' + key + ' button');\n",
              "      quickchartButtonEl.disabled = true;  // To prevent multiple clicks.\n",
              "      quickchartButtonEl.classList.add('colab-df-spinner');\n",
              "      try {\n",
              "        const charts = await google.colab.kernel.invokeFunction(\n",
              "            'suggestCharts', [key], {});\n",
              "      } catch (error) {\n",
              "        console.error('Error during call to suggestCharts:', error);\n",
              "      }\n",
              "      quickchartButtonEl.classList.remove('colab-df-spinner');\n",
              "      quickchartButtonEl.classList.add('colab-df-quickchart-complete');\n",
              "    }\n",
              "    (() => {\n",
              "      let quickchartButtonEl =\n",
              "        document.querySelector('#df-0cb2f895-cecb-463b-ad79-a11c7fc09ae1 button');\n",
              "      quickchartButtonEl.style.display =\n",
              "        google.colab.kernel.accessAllowed ? 'block' : 'none';\n",
              "    })();\n",
              "  </script>\n",
              "</div>\n",
              "\n",
              "    </div>\n",
              "  </div>\n"
            ],
            "application/vnd.google.colaboratory.intrinsic+json": {
              "type": "dataframe",
              "variable_name": "tweet_df",
              "summary": "{\n  \"name\": \"tweet_df\",\n  \"rows\": 5067,\n  \"fields\": [\n    {\n      \"column\": \"monoeng\",\n      \"properties\": {\n        \"dtype\": \"string\",\n        \"num_unique_values\": 5066,\n        \"samples\": [\n          \"Duar immediately started overthinking\",\n          \"Finally active on IG, after being off for more than a month. Wow, I'm so curious about people's lives \\ud83e\\udd23\",\n          \"It's okay not to tell you as long as you're clear about what you're doing, that means you'll be working all day until the evening, that's okay. I won't bother you as long as you say it first. I'm rarely jealous because I always think positively. If I meet you, it's immediately sticky and clingy, like a stamp \\u2639\\ufe0f\\ud83d\\ude02 https://t.co/mmoFknPGoo\"\n        ],\n        \"semantic_type\": \"\",\n        \"description\": \"\"\n      }\n    },\n    {\n      \"column\": \"monoin\",\n      \"properties\": {\n        \"dtype\": \"string\",\n        \"num_unique_values\": 5067,\n        \"samples\": [\n          \"sesi mendalam &amp; pembicaraan mendalam @ Jakarta, Indonesia https://t.co/YL5zUIJy9x\",\n          \"Lmao adalah singkatan dari Laughing My Ass Off Sebenarnya artinya bokong ku ngakak\",\n          \"Semakin bertambah umur kenapa kamu semakin overthinking padahal mah belum tentu apa yg difikirkan terjadi, emang kudu dirawat \\\"husnudzon\\\" itu di pikiran dan hati\"\n        ],\n        \"semantic_type\": \"\",\n        \"description\": \"\"\n      }\n    },\n    {\n      \"column\": \"label\",\n      \"properties\": {\n        \"dtype\": \"category\",\n        \"num_unique_values\": 3,\n        \"samples\": [\n          \"Positif\",\n          \"Negatif\",\n          \"Netral\"\n        ],\n        \"semantic_type\": \"\",\n        \"description\": \"\"\n      }\n    },\n    {\n      \"column\": \"cleaned_tweet\",\n      \"properties\": {\n        \"dtype\": \"string\",\n        \"num_unique_values\": 5024,\n        \"samples\": [\n          \"page 366 of 366 for me 2020 it's all about healing my heart \\u2764\\ufe0f\",\n          \"i'm deep talking, i don't think i understand, but it's even more annoying...\",\n          \"healing but it's not really healing because you're being chased by college assignment deadlines\\ud83d\\ude29 but that's okay, the important thing is that the view is a little different\"\n        ],\n        \"semantic_type\": \"\",\n        \"description\": \"\"\n      }\n    }\n  ]\n}"
            }
          },
          "metadata": {},
          "execution_count": 16
        }
      ]
    },
    {
      "cell_type": "code",
      "source": [
        "def demojized_tweet(cleaned_tweet):\n",
        "    r = emoji.demojize(cleaned_tweet)\n",
        "    r = r.split()\n",
        "    r = \" \".join(word for word in r)\n",
        "    return r"
      ],
      "metadata": {
        "id": "XnNuxs-dAPRa"
      },
      "execution_count": null,
      "outputs": []
    },
    {
      "cell_type": "code",
      "source": [
        "# Apply demojized_tweet function to the 'cleaned_tweet' column\n",
        "tweet_df['cleaned_tweet'] = tweet_df['cleaned_tweet'].apply(demojized_tweet)\n"
      ],
      "metadata": {
        "id": "V0diBLGQBoRf"
      },
      "execution_count": null,
      "outputs": []
    },
    {
      "cell_type": "code",
      "source": [
        "print(tweet_df[['cleaned_tweet', 'label']].head())"
      ],
      "metadata": {
        "colab": {
          "base_uri": "https://localhost:8080/"
        },
        "id": "CBdZIauGB9aw",
        "outputId": "0cfb5472-6206-4668-ef2b-49908d1ddf83"
      },
      "execution_count": null,
      "outputs": [
        {
          "output_type": "stream",
          "name": "stdout",
          "text": [
            "                                       cleaned_tweet    label\n",
            "0  deep talk turns out to be that important, and ...  Positif\n",
            "1  istg if anyone sets off any loud annoying ****...  Negatif\n",
            "2  read the comments on mr. even's post, i'm real...  Positif\n",
            "3  my least favorite love language is words of af...  Positif\n",
            "4          literally almost everytime:relieved_face:   Netral\n"
          ]
        }
      ]
    },
    {
      "cell_type": "code",
      "source": [
        "train_data = tweet_df.iloc[0:3638]\n",
        "test_data = tweet_df.iloc[3639:4650]\n",
        "validation_data = tweet_df.iloc[4651:5050]"
      ],
      "metadata": {
        "id": "FCzmfeToIE2m"
      },
      "execution_count": null,
      "outputs": []
    },
    {
      "cell_type": "code",
      "source": [
        "print(train_data)\n",
        "print(test_data)"
      ],
      "metadata": {
        "colab": {
          "base_uri": "https://localhost:8080/"
        },
        "id": "MT0PgD_IIQul",
        "outputId": "8da7e4b2-0319-4eb1-a629-3f7f94349a5b"
      },
      "execution_count": null,
      "outputs": [
        {
          "output_type": "stream",
          "name": "stdout",
          "text": [
            "                                                monoeng  \\\n",
            "0     Deep talk turns out to be that important, and ...   \n",
            "1     istg if anyone sets off any loud annoying ass ...   \n",
            "2     Read the comments on Mr. Even's post, I'm real...   \n",
            "3     My least favorite love language is words of af...   \n",
            "4     literally almost everytime😌 https://t.co/13fgG...   \n",
            "...                                                 ...   \n",
            "3633  AROUND WE GO @ Baby Tools Rental Kediri https:...   \n",
            "3634               Hours are prone to overthinking🙎🏼‍♀️   \n",
            "3635  It's fast to get on the boat, the long queue b...   \n",
            "3636  2020: I felt happy, sad, stressed, depressed, ...   \n",
            "3637  My friends are engrossed in healing, I even lo...   \n",
            "\n",
            "                                                 monoin    label  \\\n",
            "0     Deep talk ternyata sepenting ituuu , dan selal...  Positif   \n",
            "1     istg jika ada yang menyalakan kembang api yang...  Negatif   \n",
            "2     baca deh komen2 di postingan pak even, terharu...  Positif   \n",
            "3     Bahasa cinta yg paling ga gue bgt kata afirmas...  Positif   \n",
            "4     secara harfiah hampir setiap saat😌 https://t.c...   Netral   \n",
            "...                                                 ...      ...   \n",
            "3633  SEKITAR KITA @ Penyewaan Alat Bayi Kediri http...   Netral   \n",
            "3634                       Jam² rawan overthinking🙎🏼‍♀️  Negatif   \n",
            "3635  Naek kapal mah cepet , yg lama tu antri sebelu...  Negatif   \n",
            "3636  2020 : gue ngerasain yang namanya seneng, sedi...  Positif   \n",
            "3637  Temen - temen asik pada healing, lah gw malah ...  Negatif   \n",
            "\n",
            "                                          cleaned_tweet  \n",
            "0     deep talk turns out to be that important, and ...  \n",
            "1     istg if anyone sets off any loud annoying ****...  \n",
            "2     read the comments on mr. even's post, i'm real...  \n",
            "3     my least favorite love language is words of af...  \n",
            "4             literally almost everytime:relieved_face:  \n",
            "...                                                 ...  \n",
            "3633            around we go @ baby tools rental kediri  \n",
            "3634  hours are prone to overthinking:woman_pouting_...  \n",
            "3635  it's fast to get on the boat, the long queue b...  \n",
            "3636  2020: i felt happy, sad, stressed, depressed, ...  \n",
            "3637  my friends are engrossed in healing, i even lo...  \n",
            "\n",
            "[3638 rows x 4 columns]\n",
            "                                                monoeng  \\\n",
            "3639  a leader who is humble, who cares, who really ...   \n",
            "3640  The dream is to just have a staycation. But th...   \n",
            "3641                   Let's keep ourselves busy bestie   \n",
            "3642  When most people say that time is money, I hav...   \n",
            "3643  So starting to be overwhelmed now.. the though...   \n",
            "...                                                 ...   \n",
            "4645  I've started to become apathetic about donatio...   \n",
            "4646  Well, even the director of Studio Choom said t...   \n",
            "4647  When I'm curious about other people's lives, m...   \n",
            "4648  Idk somehow those \"gelay\" and \"mleyot\" sounds ...   \n",
            "4649    Her mood swings are more like PMS girls: GEMINI   \n",
            "\n",
            "                                                 monoin    label  \\\n",
            "3639  sosok leader yg rendah hati,yg peduli,yg emang...  Positif   \n",
            "3640   Mimpinya uda staycation aja . Tapi yagitu deh 😶😶  Negatif   \n",
            "3641                      Mari menyibukkan diri sahabat  Positif   \n",
            "3642  Ketika kebanyakan orang mengatakan bahwa waktu...  Negatif   \n",
            "3643  Jadi mulai kewalahan skrg.. pikiran tak akan b...  Negatif   \n",
            "...                                                 ...      ...   \n",
            "4645  Aku udah mulai apatis sama donasi donasi di me...  Negatif   \n",
            "4646  Yah, bahkan direktur Studio Choom bilang kalau...  Positif   \n",
            "4647  Disaat gua lg kepo sma hidup org lain, disitu ...  Negatif   \n",
            "4648  Entah kenapa \"gelay\" dan \"mleyot\" itu terdenga...  Negatif   \n",
            "4649        Mood swing nya ngelebihin cewe PMS : GEMINI  Negatif   \n",
            "\n",
            "                                          cleaned_tweet  \n",
            "3639  a leader who is humble, who cares, who really ...  \n",
            "3640  the dream is to just have a staycation. but th...  \n",
            "3641                   let's keep ourselves busy bestie  \n",
            "3642  when most people say that time is money, i hav...  \n",
            "3643  so starting to be overwhelmed now.. the though...  \n",
            "...                                                 ...  \n",
            "4645  i've started to become apathetic about donatio...  \n",
            "4646  well, even the director of studio choom said t...  \n",
            "4647  when i'm curious about other people's lives, m...  \n",
            "4648  idk somehow those \"gelay\" and \"mleyot\" sounds ...  \n",
            "4649   her mood swings are more like **** girls: gemini  \n",
            "\n",
            "[1011 rows x 4 columns]\n"
          ]
        }
      ]
    },
    {
      "cell_type": "code",
      "source": [
        "from google.colab import files"
      ],
      "metadata": {
        "id": "prnikgtPIcWQ"
      },
      "execution_count": null,
      "outputs": []
    },
    {
      "cell_type": "code",
      "source": [
        "# Saving the split datasets to CSV files in Google Colab environment\n",
        "train_data.to_csv('trainingIng.csv', index=False)\n",
        "test_data.to_csv('testIng.csv', index=False)\n",
        "validation_data.to_csv('validationIng.csv', index=False)\n",
        "\n",
        "# If you want to download the files after saving them\n",
        "from google.colab import files\n",
        "files.download('trainingIng.csv')\n",
        "files.download('testIng.csv')\n",
        "files.download('validationIng.csv')"
      ],
      "metadata": {
        "colab": {
          "base_uri": "https://localhost:8080/",
          "height": 69
        },
        "id": "BU5pnunQIhJm",
        "outputId": "bec0be45-5152-4925-8d2a-e8c713e36d22"
      },
      "execution_count": null,
      "outputs": [
        {
          "output_type": "display_data",
          "data": {
            "text/plain": [
              "<IPython.core.display.Javascript object>"
            ],
            "application/javascript": [
              "\n",
              "    async function download(id, filename, size) {\n",
              "      if (!google.colab.kernel.accessAllowed) {\n",
              "        return;\n",
              "      }\n",
              "      const div = document.createElement('div');\n",
              "      const label = document.createElement('label');\n",
              "      label.textContent = `Downloading \"${filename}\": `;\n",
              "      div.appendChild(label);\n",
              "      const progress = document.createElement('progress');\n",
              "      progress.max = size;\n",
              "      div.appendChild(progress);\n",
              "      document.body.appendChild(div);\n",
              "\n",
              "      const buffers = [];\n",
              "      let downloaded = 0;\n",
              "\n",
              "      const channel = await google.colab.kernel.comms.open(id);\n",
              "      // Send a message to notify the kernel that we're ready.\n",
              "      channel.send({})\n",
              "\n",
              "      for await (const message of channel.messages) {\n",
              "        // Send a message to notify the kernel that we're ready.\n",
              "        channel.send({})\n",
              "        if (message.buffers) {\n",
              "          for (const buffer of message.buffers) {\n",
              "            buffers.push(buffer);\n",
              "            downloaded += buffer.byteLength;\n",
              "            progress.value = downloaded;\n",
              "          }\n",
              "        }\n",
              "      }\n",
              "      const blob = new Blob(buffers, {type: 'application/binary'});\n",
              "      const a = document.createElement('a');\n",
              "      a.href = window.URL.createObjectURL(blob);\n",
              "      a.download = filename;\n",
              "      div.appendChild(a);\n",
              "      a.click();\n",
              "      div.remove();\n",
              "    }\n",
              "  "
            ]
          },
          "metadata": {}
        },
        {
          "output_type": "display_data",
          "data": {
            "text/plain": [
              "<IPython.core.display.Javascript object>"
            ],
            "application/javascript": [
              "download(\"download_e56c037e-d305-4df6-b284-9893473cab90\", \"trainingIng.csv\", 1455359)"
            ]
          },
          "metadata": {}
        },
        {
          "output_type": "display_data",
          "data": {
            "text/plain": [
              "<IPython.core.display.Javascript object>"
            ],
            "application/javascript": [
              "\n",
              "    async function download(id, filename, size) {\n",
              "      if (!google.colab.kernel.accessAllowed) {\n",
              "        return;\n",
              "      }\n",
              "      const div = document.createElement('div');\n",
              "      const label = document.createElement('label');\n",
              "      label.textContent = `Downloading \"${filename}\": `;\n",
              "      div.appendChild(label);\n",
              "      const progress = document.createElement('progress');\n",
              "      progress.max = size;\n",
              "      div.appendChild(progress);\n",
              "      document.body.appendChild(div);\n",
              "\n",
              "      const buffers = [];\n",
              "      let downloaded = 0;\n",
              "\n",
              "      const channel = await google.colab.kernel.comms.open(id);\n",
              "      // Send a message to notify the kernel that we're ready.\n",
              "      channel.send({})\n",
              "\n",
              "      for await (const message of channel.messages) {\n",
              "        // Send a message to notify the kernel that we're ready.\n",
              "        channel.send({})\n",
              "        if (message.buffers) {\n",
              "          for (const buffer of message.buffers) {\n",
              "            buffers.push(buffer);\n",
              "            downloaded += buffer.byteLength;\n",
              "            progress.value = downloaded;\n",
              "          }\n",
              "        }\n",
              "      }\n",
              "      const blob = new Blob(buffers, {type: 'application/binary'});\n",
              "      const a = document.createElement('a');\n",
              "      a.href = window.URL.createObjectURL(blob);\n",
              "      a.download = filename;\n",
              "      div.appendChild(a);\n",
              "      a.click();\n",
              "      div.remove();\n",
              "    }\n",
              "  "
            ]
          },
          "metadata": {}
        },
        {
          "output_type": "display_data",
          "data": {
            "text/plain": [
              "<IPython.core.display.Javascript object>"
            ],
            "application/javascript": [
              "download(\"download_e11d788a-806e-46e2-8045-1312495a3ed5\", \"testIng.csv\", 387082)"
            ]
          },
          "metadata": {}
        },
        {
          "output_type": "display_data",
          "data": {
            "text/plain": [
              "<IPython.core.display.Javascript object>"
            ],
            "application/javascript": [
              "\n",
              "    async function download(id, filename, size) {\n",
              "      if (!google.colab.kernel.accessAllowed) {\n",
              "        return;\n",
              "      }\n",
              "      const div = document.createElement('div');\n",
              "      const label = document.createElement('label');\n",
              "      label.textContent = `Downloading \"${filename}\": `;\n",
              "      div.appendChild(label);\n",
              "      const progress = document.createElement('progress');\n",
              "      progress.max = size;\n",
              "      div.appendChild(progress);\n",
              "      document.body.appendChild(div);\n",
              "\n",
              "      const buffers = [];\n",
              "      let downloaded = 0;\n",
              "\n",
              "      const channel = await google.colab.kernel.comms.open(id);\n",
              "      // Send a message to notify the kernel that we're ready.\n",
              "      channel.send({})\n",
              "\n",
              "      for await (const message of channel.messages) {\n",
              "        // Send a message to notify the kernel that we're ready.\n",
              "        channel.send({})\n",
              "        if (message.buffers) {\n",
              "          for (const buffer of message.buffers) {\n",
              "            buffers.push(buffer);\n",
              "            downloaded += buffer.byteLength;\n",
              "            progress.value = downloaded;\n",
              "          }\n",
              "        }\n",
              "      }\n",
              "      const blob = new Blob(buffers, {type: 'application/binary'});\n",
              "      const a = document.createElement('a');\n",
              "      a.href = window.URL.createObjectURL(blob);\n",
              "      a.download = filename;\n",
              "      div.appendChild(a);\n",
              "      a.click();\n",
              "      div.remove();\n",
              "    }\n",
              "  "
            ]
          },
          "metadata": {}
        },
        {
          "output_type": "display_data",
          "data": {
            "text/plain": [
              "<IPython.core.display.Javascript object>"
            ],
            "application/javascript": [
              "download(\"download_53c524bc-ec5f-423c-ab63-1341d1513077\", \"validationIng.csv\", 162020)"
            ]
          },
          "metadata": {}
        }
      ]
    },
    {
      "cell_type": "code",
      "source": [],
      "metadata": {
        "id": "5OS2_QbImQQj"
      },
      "execution_count": null,
      "outputs": []
    }
  ]
}